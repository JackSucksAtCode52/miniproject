{
 "cells": [
  {
   "cell_type": "markdown",
   "metadata": {},
   "source": [
    "# Miniproject Assessed Exercise\n",
    "# Level  3\n",
    "## Jack Bew\n",
    "## Student ID: 250323832\n",
    "## 14th October 2025\n",
    "## Version 2\n",
    "- Includes code that displays the rules and asks the user quiz questions\n",
    "- Follows the style guide\n",
    "- Testing full program"
   ]
  },
  {
   "cell_type": "markdown",
   "metadata": {},
   "source": [
    "## Summary of the Question \n",
    "\n",
    "Write a quiz program.\n",
    "\n",
    "It asks the user quiz questions and doubles their money if they get them correct and halves the money if they get it wrong "
   ]
  },
  {
   "cell_type": "markdown",
   "metadata": {},
   "source": [
    "## Justification that the program passes this level\n",
    "- I can EXPLAIN HOW MY PROGRAM WORKS\n",
    "- I wrote this program myself\n",
    "- My program compiles and runs in JHUB\n",
    "\n",
    "- My program includes screen output and keyboard input \n",
    "- My program includes variables, assignment and expressions \n",
    "- My program defines and uses multiple methods that takes in arguments and/or also returns a result\n",
    "- My program has indentation\n",
    "- My program includes comments for each and every method\n",
    "- all variables are defined inside methods\n",
    "\n",
    "- My program includes decision statements"
   ]
  },
  {
   "cell_type": "markdown",
   "metadata": {},
   "source": [
    "## The literate program development"
   ]
  },
  {
   "cell_type": "markdown",
   "metadata": {},
   "source": [
    "### Print\n",
    "\n",
    "\n",
    "#### What it does\n",
    "This method shortens the printing message for the programmer meaning only print(...) needs to be typed when the programmer wants to print something.\n",
    "\n",
    "#### Implementation (how it works)\n",
    "It takes the message in as a argument and prints it onto the screen."
   ]
  },
  {
   "cell_type": "code",
   "execution_count": 5,
   "metadata": {},
   "outputs": [],
   "source": [
    "public static void print(String message) //shortens the print function for programming simplicity\n",
    "    {\n",
    "        System.out.println(message);\n",
    "        return;\n",
    "    }"
   ]
  },
  {
   "cell_type": "markdown",
   "metadata": {},
   "source": [
    "#### Testing"
   ]
  },
  {
   "cell_type": "code",
   "execution_count": 7,
   "metadata": {},
   "outputs": [
    {
     "name": "stdout",
     "output_type": "stream",
     "text": [
      "hello world\n"
     ]
    }
   ],
   "source": [
    "print (\"hello world\");"
   ]
  },
  {
   "cell_type": "markdown",
   "metadata": {},
   "source": [
    "### get_user_input\n",
    "\n",
    "\n",
    "#### What it does\n",
    "Gets the user to input something\n",
    "\n",
    "#### Implementation (how it works)\n",
    "creates a new scanner and prints the message that's passed into the method and retrieves the users input on the next line"
   ]
  },
  {
   "cell_type": "code",
   "execution_count": 12,
   "metadata": {},
   "outputs": [],
   "source": [
    "    public static String get_user_input(String message) //gets the user's inputs to somplify future code\n",
    "    {\n",
    "        Scanner scanner = new Scanner(System.in);\n",
    "        print(message);\n",
    "        return scanner.nextLine();\n",
    "    }"
   ]
  },
  {
   "cell_type": "markdown",
   "metadata": {},
   "source": [
    "#### Testing"
   ]
  },
  {
   "cell_type": "code",
   "execution_count": 13,
   "metadata": {},
   "outputs": [
    {
     "name": "stdout",
     "output_type": "stream",
     "text": [
      "Please enter your name\n"
     ]
    },
    {
     "name": "stdin",
     "output_type": "stream",
     "text": [
      " Jack\n"
     ]
    },
    {
     "data": {
      "text/plain": [
       "Jack"
      ]
     },
     "execution_count": 13,
     "metadata": {},
     "output_type": "execute_result"
    }
   ],
   "source": [
    "get_user_input(\"Please enter your name\")"
   ]
  },
  {
   "cell_type": "markdown",
   "metadata": {},
   "source": [
    "### welcome_screen\n",
    "\n",
    "#### What it does\n",
    "This method asks for the users name and greets them and tells them the rules of the quiz\n",
    "\n",
    "#### Implementation (how it works)\n",
    "it declares a final string variable and runs the gets user input method to get the name then prints a greeting with their name then prints the rules\n"
   ]
  },
  {
   "cell_type": "code",
   "execution_count": 14,
   "metadata": {},
   "outputs": [],
   "source": [
    "public static void welcome_screen() //shows the rules to the user \n",
    "    {\n",
    "        final String name = get_user_input(\"Hi my name is Lexi, I will be your quizbot for this quiz.\\nThe rules for the quiz are that you start with a given amount of winnings. For every correct answer your winnings double. For every incorrect answer your winnings half.\\nWhats your name?\");\n",
    "        print(\"Hello \"+name+\" its lovely to meet you.\\nLets get started!!\");\n",
    "        return;\n",
    "    }"
   ]
  },
  {
   "cell_type": "markdown",
   "metadata": {},
   "source": [
    "#### Testing"
   ]
  },
  {
   "cell_type": "code",
   "execution_count": 15,
   "metadata": {},
   "outputs": [
    {
     "name": "stdout",
     "output_type": "stream",
     "text": [
      "Hi my name is Lexi, I will be your quizbot for this quiz.\n",
      "The rules for the quiz are that you start with a given amount of winnings. For every correct answer your winnings double. For every incorrect answer your winnings half.\n",
      "Whats your name?\n"
     ]
    },
    {
     "name": "stdin",
     "output_type": "stream",
     "text": [
      " Jack\n"
     ]
    },
    {
     "name": "stdout",
     "output_type": "stream",
     "text": [
      "Hello Jack its lovely to meet you.\n",
      "Lets get started!!\n"
     ]
    }
   ],
   "source": [
    "welcome_screen();"
   ]
  },
  {
   "cell_type": "markdown",
   "metadata": {},
   "source": [
    "### ask_question\n",
    "\n",
    "#### What it does\n",
    "asks the user the quiz questions then checks them with the correct answer. If the answer is correct then the money is doubled if its incorrect then the ans is halved\n",
    "\n",
    "#### Implementation (how it works)\n",
    "It takes in the question answer and the money as arguments, then it gets the users input and checks it against the answer. This then prints out a correct answer message and doubles the money or incorrect answer message and halves the money. Then the program returns the new money balance.~\n"
   ]
  },
  {
   "cell_type": "code",
   "execution_count": 16,
   "metadata": {},
   "outputs": [],
   "source": [
    "public static Double ask_question(String question,String answer,Double money) //asks the user a the question seeing if there answer is correct, editing the money pot\n",
    "    {\n",
    "        String user_answer = get_user_input(question);\n",
    "        if (user_answer.equals(answer))\n",
    "        {\n",
    "            money = money * 2.0;\n",
    "            print(\"Yes, well done the answer is \"+ answer+ \" well done.\\nYour money balance is now: \"+money);\n",
    "        }\n",
    "        else\n",
    "        {\n",
    "            money = money / 2.0;\n",
    "            print(\"unfortunatly, \"+user_answer+\" is incorrect.\\n\"+ answer+\" is the correct answer :(\\nYour money balance is now: \"+money);\n",
    "        }\n",
    "        return money;\n",
    "    }"
   ]
  },
  {
   "cell_type": "markdown",
   "metadata": {},
   "source": [
    "#### Testing"
   ]
  },
  {
   "cell_type": "code",
   "execution_count": 17,
   "metadata": {},
   "outputs": [
    {
     "name": "stdout",
     "output_type": "stream",
     "text": [
      "What day is it\n"
     ]
    },
    {
     "name": "stdin",
     "output_type": "stream",
     "text": [
      " Tuesday\n"
     ]
    },
    {
     "name": "stdout",
     "output_type": "stream",
     "text": [
      "Yes, well done the answer is Tuesday well done.\n",
      "Your money balance is now: 2000.0\n"
     ]
    },
    {
     "data": {
      "text/plain": [
       "2000.0"
      ]
     },
     "execution_count": 17,
     "metadata": {},
     "output_type": "execute_result"
    }
   ],
   "source": [
    "ask_question(\"What day is it\",\"Tuesday\",1000.00)"
   ]
  },
  {
   "cell_type": "code",
   "execution_count": 18,
   "metadata": {},
   "outputs": [
    {
     "name": "stdout",
     "output_type": "stream",
     "text": [
      "What day is it\n"
     ]
    },
    {
     "name": "stdin",
     "output_type": "stream",
     "text": [
      " Monday\n"
     ]
    },
    {
     "name": "stdout",
     "output_type": "stream",
     "text": [
      "unfortunatly, Monday is incorrect.\n",
      "Tuesday is the correct answer :(\n",
      "Your money balance is now: 500.0\n"
     ]
    },
    {
     "data": {
      "text/plain": [
       "500.0"
      ]
     },
     "execution_count": 18,
     "metadata": {},
     "output_type": "execute_result"
    }
   ],
   "source": [
    "ask_question(\"What day is it\",\"Tuesday\",1000.00)"
   ]
  },
  {
   "cell_type": "markdown",
   "metadata": {},
   "source": [
    "### question1\n",
    "\n",
    "#### What it does\n",
    "stores the question and answer for the 1st question and passes it on to the ask_question method\n",
    "#### Implementation (how it works)\n",
    "Initialises the question and answer then runs the ask_question getting back the updates money and returning it \n"
   ]
  },
  {
   "cell_type": "code",
   "execution_count": 19,
   "metadata": {},
   "outputs": [],
   "source": [
    "public static Double question1 (Double money) //the question and answer for question 1\n",
    "    {\n",
    "        String question = \"What is the name of the band of brothers Noel and Liam?\";\n",
    "        String answer = \"Oasis\";\n",
    "        money = ask_question(question,answer,money);\n",
    "        return money;\n",
    "    }"
   ]
  },
  {
   "cell_type": "markdown",
   "metadata": {},
   "source": [
    "#### Testing"
   ]
  },
  {
   "cell_type": "code",
   "execution_count": 20,
   "metadata": {},
   "outputs": [
    {
     "name": "stdout",
     "output_type": "stream",
     "text": [
      "What is the name of the band of brothers Noel and Liam?\n"
     ]
    },
    {
     "name": "stdin",
     "output_type": "stream",
     "text": [
      " Oasis\n"
     ]
    },
    {
     "name": "stdout",
     "output_type": "stream",
     "text": [
      "Yes, well done the answer is Oasis well done.\n",
      "Your money balance is now: 2000.0\n"
     ]
    },
    {
     "data": {
      "text/plain": [
       "2000.0"
      ]
     },
     "execution_count": 20,
     "metadata": {},
     "output_type": "execute_result"
    }
   ],
   "source": [
    "question1(1000.00)"
   ]
  },
  {
   "cell_type": "code",
   "execution_count": 21,
   "metadata": {},
   "outputs": [
    {
     "name": "stdout",
     "output_type": "stream",
     "text": [
      "What is the name of the band of brothers Noel and Liam?\n"
     ]
    },
    {
     "name": "stdin",
     "output_type": "stream",
     "text": [
      " Abba\n"
     ]
    },
    {
     "name": "stdout",
     "output_type": "stream",
     "text": [
      "unfortunatly, Abba is incorrect.\n",
      "Oasis is the correct answer :(\n",
      "Your money balance is now: 500.0\n"
     ]
    },
    {
     "data": {
      "text/plain": [
       "500.0"
      ]
     },
     "execution_count": 21,
     "metadata": {},
     "output_type": "execute_result"
    }
   ],
   "source": [
    "question1(1000.00)"
   ]
  },
  {
   "cell_type": "markdown",
   "metadata": {},
   "source": [
    "### question2\n",
    "\n",
    "#### What it does\n",
    "stores the question and answer for the 2nd question and passes it on to the ask_question method\n",
    "#### Implementation (how it works)\n",
    "Initialises the question and answer then runs the ask_question getting back the updates money and returning it \n"
   ]
  },
  {
   "cell_type": "code",
   "execution_count": 22,
   "metadata": {},
   "outputs": [],
   "source": [
    "   public static Double question2 (Double money) //the question and answer for question 2\n",
    "    {\n",
    "        String question = \"Whats the best module in Computer Science\";\n",
    "        String answer = \"Procedural Programming\";\n",
    "        money = ask_question(question,answer,money);\n",
    "        return money;\n",
    "    }"
   ]
  },
  {
   "cell_type": "markdown",
   "metadata": {},
   "source": [
    "#### Testing"
   ]
  },
  {
   "cell_type": "code",
   "execution_count": 23,
   "metadata": {},
   "outputs": [
    {
     "name": "stdout",
     "output_type": "stream",
     "text": [
      "Whats the best module in Computer Science\n"
     ]
    },
    {
     "name": "stdin",
     "output_type": "stream",
     "text": [
      " Procedural Programming\n"
     ]
    },
    {
     "name": "stdout",
     "output_type": "stream",
     "text": [
      "Yes, well done the answer is Procedural Programming well done.\n",
      "Your money balance is now: 4000.0\n"
     ]
    },
    {
     "data": {
      "text/plain": [
       "4000.0"
      ]
     },
     "execution_count": 23,
     "metadata": {},
     "output_type": "execute_result"
    }
   ],
   "source": [
    "question2(2000.00)"
   ]
  },
  {
   "cell_type": "code",
   "execution_count": 24,
   "metadata": {},
   "outputs": [
    {
     "name": "stdout",
     "output_type": "stream",
     "text": [
      "Whats the best module in Computer Science\n"
     ]
    },
    {
     "name": "stdin",
     "output_type": "stream",
     "text": [
      " Logic and Discrete\n"
     ]
    },
    {
     "name": "stdout",
     "output_type": "stream",
     "text": [
      "unfortunatly, Logic and Discrete is incorrect.\n",
      "Procedural Programming is the correct answer :(\n",
      "Your money balance is now: 1000.0\n"
     ]
    },
    {
     "data": {
      "text/plain": [
       "1000.0"
      ]
     },
     "execution_count": 24,
     "metadata": {},
     "output_type": "execute_result"
    }
   ],
   "source": [
    "question2(2000.00)"
   ]
  },
  {
   "cell_type": "markdown",
   "metadata": {},
   "source": [
    "### quiz_level_3\n",
    "\n",
    "#### What it does\n",
    "This method runs the whole program\n",
    "\n",
    "#### Implementation (how it works)\n",
    "It runs the welcome screen method, then initialises the money_pot then runs question 1 and question 2 keeping track of the money pot as it goes along\n"
   ]
  },
  {
   "cell_type": "code",
   "execution_count": 26,
   "metadata": {},
   "outputs": [],
   "source": [
    "    public static void quiz_level_3() //runs the methods and keeps track of the money\n",
    "    {\n",
    "        welcome_screen();\n",
    "        Double money_pot = 1000.00;\n",
    "        money_pot = question1(money_pot);\n",
    "        money_pot = question2(money_pot);\n",
    "    }"
   ]
  },
  {
   "cell_type": "markdown",
   "metadata": {},
   "source": [
    "#### Testing"
   ]
  },
  {
   "cell_type": "code",
   "execution_count": 28,
   "metadata": {},
   "outputs": [
    {
     "name": "stdout",
     "output_type": "stream",
     "text": [
      "Hi my name is Lexi, I will be your quizbot for this quiz.\n",
      "The rules for the quiz are that you start with a given amount of winnings. For every correct answer your winnings double. For every incorrect answer your winnings half.\n",
      "Whats your name?\n"
     ]
    },
    {
     "name": "stdin",
     "output_type": "stream",
     "text": [
      " Jack\n"
     ]
    },
    {
     "name": "stdout",
     "output_type": "stream",
     "text": [
      "Hello Jack its lovely to meet you.\n",
      "Lets get started!!\n",
      "What is the name of the band of brothers Noel and Liam?\n"
     ]
    },
    {
     "name": "stdin",
     "output_type": "stream",
     "text": [
      " Oasis\n"
     ]
    },
    {
     "name": "stdout",
     "output_type": "stream",
     "text": [
      "Yes, well done the answer is Oasis well done.\n",
      "Your money balance is now: 2000.0\n",
      "Whats the best module in Computer Science\n"
     ]
    },
    {
     "name": "stdin",
     "output_type": "stream",
     "text": [
      " Procedural Programming\n"
     ]
    },
    {
     "name": "stdout",
     "output_type": "stream",
     "text": [
      "Yes, well done the answer is Procedural Programming well done.\n",
      "Your money balance is now: 4000.0\n"
     ]
    }
   ],
   "source": [
    "quiz_level_3 ();"
   ]
  },
  {
   "cell_type": "markdown",
   "metadata": {},
   "source": [
    "## The complete program \n",
    "This version will only compile here. To run it copy it into a file called initials.java on your local computer and compile and run it there."
   ]
  },
  {
   "cell_type": "code",
   "execution_count": 1,
   "metadata": {},
   "outputs": [],
   "source": [
    "/* ***************************************\n",
    "  @author    Jack Bew  @SID       250323832\n",
    "  @date      14th October 2025\n",
    "  @version   2\n",
    "\n",
    "    Miniproject Level 3\n",
    "    A quiz that asks questions and marks them, updating a money pot .\n",
    "   ****************************************/\n",
    "import java.util.Scanner;\n",
    "class Quiz\n",
    "{\n",
    "    public static void main(String[] a) //Runs the program\n",
    "    {\n",
    "        quiz_level_3();\n",
    "    }\n",
    "\n",
    "    public static void print(String message) //shortens the print function for programming simplicity\n",
    "    {\n",
    "        System.out.println(message);\n",
    "        return;\n",
    "    }\n",
    "\n",
    "    public static void welcome_screen() //shows the rules to the user \n",
    "    {\n",
    "        final String name = get_user_input(\"Hi my name is Lexi, I will be your quizbot for this quiz.\\nThe rules for the quiz are that you start with a given amount of winnings. For every correct answer your winnings double. For every incorrect answer your winnings half.\\nWhats your name?\");\n",
    "        print(\"Hello \"+name+\" its lovely to meet you.\\nLets get started!!\");\n",
    "        return;\n",
    "    }\n",
    "\n",
    "    public static String get_user_input(String message) //gets the user's inputs to somplify future code\n",
    "    {\n",
    "        Scanner scanner = new Scanner(System.in);\n",
    "        print(message);\n",
    "        return scanner.nextLine();\n",
    "    }\n",
    "\n",
    "    public static Double ask_question(String question,String answer,Double money) //asks the user a the question seeing if there answer is correct, editing the money pot\n",
    "    {\n",
    "        String user_answer = get_user_input(question);\n",
    "        if (user_answer.equals(answer))\n",
    "        {\n",
    "            money = money * 2.0;\n",
    "            print(\"Yes, well done the answer is \"+ answer+ \" well done.\\nYour money balance is now: \"+money);\n",
    "        }\n",
    "        else\n",
    "        {\n",
    "            money = money / 2.0;\n",
    "            print(\"unfortunatly, \"+user_answer+\" is incorrect.\\n\"+ answer+\" is the correct answer :(\\nYour money balance is now: \"+money);\n",
    "        }\n",
    "        return money;\n",
    "    }\n",
    "\n",
    "    public static Double question1 (Double money) //the question and answer for question 1\n",
    "    {\n",
    "        String question = \"What is the name of the band of brothers Noel and Liam?\";\n",
    "        String answer = \"Oasis\";\n",
    "        money = ask_question(question,answer,money);\n",
    "        return money;\n",
    "    }\n",
    "\n",
    "    public static Double question2 (Double money) //the question and answer for question 2\n",
    "    {\n",
    "        String question = \"Whats the best module in Computer Science\";\n",
    "        String answer = \"Procedural Programming\";\n",
    "        money = ask_question(question,answer,money);\n",
    "        return money;\n",
    "    }\n",
    "\n",
    "\n",
    "    public static void quiz_level_3() //runs the methods and keeps track of the money\n",
    "    {\n",
    "        welcome_screen();\n",
    "        Double money_pot = 1000.00;\n",
    "        money_pot = question1(money_pot);\n",
    "        money_pot = question2(money_pot);\n",
    "    }\n",
    "}"
   ]
  },
  {
   "cell_type": "markdown",
   "metadata": {},
   "source": [
    "### Running the program\n",
    "Run the following call to simulate running the complete program.\n",
    "\n",
    "If the user types\n",
    "```\n",
    "Jack\n",
    "Oasis\n",
    "Procedural Programming\n",
    "```\n",
    "It should print exactly\n",
    "```\n",
    "Hi my name is Lexi, I will be your quizbot for this quiz.\n",
    "The rules for the quiz are that you start with a given amount of winnings. For every correct answer your winnings double. For every incorrect answer your winnings half.\n",
    "Whats your name?\n",
    " Jack\n",
    "Hello Jack its lovely to meet you.\n",
    "Lets get started!!\n",
    "What is the name of the band of brothers Noel and Liam?\n",
    " Oasis\n",
    "Yes, well done the answer is Oasis well done.\n",
    "Your money balance is now: 2000.0\n",
    "Whats the best module in Computer Science\n",
    " Procedural Programming\n",
    "Yes, well done the answer is Procedural Programming well done.\n",
    "Your money balance is now: 4000.0\n",
    "```\n",
    "If the user types\n",
    "```\n",
    "Paul\n",
    "Abba\n",
    "Logic and Descrete\n",
    "```\n",
    "It should print exactly\n",
    "```\n",
    "Hi my name is Lexi, I will be your quizbot for this quiz.\n",
    "The rules for the quiz are that you start with a given amount of winnings. For every correct answer your winnings double. For every incorrect answer your winnings half.\n",
    "Whats your name?\n",
    " Paul\n",
    "Hello Paul its lovely to meet you.\n",
    "Lets get started!!\n",
    "What is the name of the band of brothers Noel and Liam?\n",
    " Abba\n",
    "unfortunatly, Abba is incorrect.\n",
    "Oasis is the correct answer :(\n",
    "Your money balance is now: 500.0\n",
    "Whats the best module in Computer Science\n",
    " Logic and Discrete\n",
    "unfortunatly, Logic and Discrete is incorrect.\n",
    "Procedural Programming is the correct answer :(\n",
    "Your money balance is now: 250.0\n",
    "```"
   ]
  },
  {
   "cell_type": "code",
   "execution_count": 30,
   "metadata": {},
   "outputs": [
    {
     "name": "stdout",
     "output_type": "stream",
     "text": [
      "Hi my name is Lexi, I will be your quizbot for this quiz.\n",
      "The rules for the quiz are that you start with a given amount of winnings. For every correct answer your winnings double. For every incorrect answer your winnings half.\n",
      "Whats your name?\n"
     ]
    },
    {
     "name": "stdin",
     "output_type": "stream",
     "text": [
      " Jack\n"
     ]
    },
    {
     "name": "stdout",
     "output_type": "stream",
     "text": [
      "Hello Jack its lovely to meet you.\n",
      "Lets get started!!\n",
      "What is the name of the band of brothers Noel and Liam?\n"
     ]
    },
    {
     "name": "stdin",
     "output_type": "stream",
     "text": [
      " Oasis\n"
     ]
    },
    {
     "name": "stdout",
     "output_type": "stream",
     "text": [
      "Yes, well done the answer is Oasis well done.\n",
      "Your money balance is now: 2000.0\n",
      "Whats the best module in Computer Science\n"
     ]
    },
    {
     "name": "stdin",
     "output_type": "stream",
     "text": [
      " Procedural Programming\n"
     ]
    },
    {
     "name": "stdout",
     "output_type": "stream",
     "text": [
      "Yes, well done the answer is Procedural Programming well done.\n",
      "Your money balance is now: 4000.0\n"
     ]
    }
   ],
   "source": [
    "Quiz.main(null);"
   ]
  },
  {
   "cell_type": "code",
   "execution_count": 29,
   "metadata": {},
   "outputs": [
    {
     "name": "stdout",
     "output_type": "stream",
     "text": [
      "Hi my name is Lexi, I will be your quizbot for this quiz.\n",
      "The rules for the quiz are that you start with a given amount of winnings. For every correct answer your winnings double. For every incorrect answer your winnings half.\n",
      "Whats your name?\n"
     ]
    },
    {
     "name": "stdin",
     "output_type": "stream",
     "text": [
      " Paul\n"
     ]
    },
    {
     "name": "stdout",
     "output_type": "stream",
     "text": [
      "Hello Paul its lovely to meet you.\n",
      "Lets get started!!\n",
      "What is the name of the band of brothers Noel and Liam?\n"
     ]
    },
    {
     "name": "stdin",
     "output_type": "stream",
     "text": [
      " Abba\n"
     ]
    },
    {
     "name": "stdout",
     "output_type": "stream",
     "text": [
      "unfortunatly, Abba is incorrect.\n",
      "Oasis is the correct answer :(\n",
      "Your money balance is now: 500.0\n",
      "Whats the best module in Computer Science\n"
     ]
    },
    {
     "name": "stdin",
     "output_type": "stream",
     "text": [
      " Logic and Discrete\n"
     ]
    },
    {
     "name": "stdout",
     "output_type": "stream",
     "text": [
      "unfortunatly, Logic and Discrete is incorrect.\n",
      "Procedural Programming is the correct answer :(\n",
      "Your money balance is now: 250.0\n"
     ]
    }
   ],
   "source": [
    "Quiz.main(null);"
   ]
  },
  {
   "cell_type": "markdown",
   "metadata": {},
   "source": [
    "**END OF LITERATE DOCUMENT**"
   ]
  }
 ],
 "metadata": {
  "kernelspec": {
   "display_name": "Java",
   "language": "java",
   "name": "java"
  },
  "language_info": {
   "codemirror_mode": "java",
   "file_extension": ".jshell",
   "mimetype": "text/x-java-source",
   "name": "Java",
   "pygments_lexer": "java",
   "version": "11.0.8+10-LTS"
  }
 },
 "nbformat": 4,
 "nbformat_minor": 4
}
